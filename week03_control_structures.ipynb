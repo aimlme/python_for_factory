{
 "cells": [
  {
   "cell_type": "markdown",
   "id": "fadc1ad8",
   "metadata": {},
   "source": [
    "\n",
    "# 🐍 **Week 3: Control Structures**\n",
    "\n",
    "Welcome to **Week 3** of your Python learning journey! 🎓\n",
    "\n",
    "In this lesson, you will learn:\n",
    "- Conditional Statements (`if`, `elif`, `else`)\n",
    "- Loops (`for`, `while`)\n",
    "- Control Statements (`break`, `continue`, `pass`)\n",
    "- Nested Loops\n",
    "- Hands-on Exercise: Number Guessing Game\n",
    "\n",
    "Let's dive in! 🚀\n"
   ]
  },
  {
   "cell_type": "markdown",
   "id": "39bbb944",
   "metadata": {},
   "source": [
    "\n",
    "## 📌 **1. Conditional Statements (`if`, `elif`, `else`)**\n",
    "\n",
    "Conditional statements allow your program to make decisions based on certain conditions.\n",
    "\n",
    "### 📝 Example of Conditional Statements:\n"
   ]
  },
  {
   "cell_type": "code",
   "execution_count": null,
   "id": "c237144a",
   "metadata": {},
   "outputs": [],
   "source": [
    "# Example of Conditional Statements\n",
    "\n",
    "number = int(input(\"Enter a number: \"))\n",
    "\n",
    "if number > 0:\n",
    "    print(\"The number is positive.\")\n",
    "elif number == 0:\n",
    "    print(\"The number is zero.\")\n",
    "else:\n",
    "    print(\"The number is negative.\")"
   ]
  },
  {
   "cell_type": "markdown",
   "id": "41be1a71",
   "metadata": {},
   "source": [
    "\n",
    "## 📌 **2. Loops (`for`, `while`)**\n",
    "\n",
    "Loops allow you to **repeat a block of code** multiple times.\n",
    "\n",
    "### 📝 `for` Loop Example:\n"
   ]
  },
  {
   "cell_type": "code",
   "execution_count": null,
   "id": "89b63c9c",
   "metadata": {},
   "outputs": [],
   "source": [
    "# Example of a for loop\n",
    "\n",
    "for i in range(6):\n",
    "    print(f\"Iteration {i}\")"
   ]
  },
  {
   "cell_type": "markdown",
   "id": "ec668cdc",
   "metadata": {},
   "source": [
    "\n",
    "### 📝 `while` Loop Example:\n"
   ]
  },
  {
   "cell_type": "code",
   "execution_count": null,
   "id": "29c1fff4",
   "metadata": {},
   "outputs": [],
   "source": [
    "# Example of a while loop\n",
    "\n",
    "count = 0\n",
    "\n",
    "while count < 5:\n",
    "    print(f\"Count is {count}\")\n",
    "    count += 1"
   ]
  },
  {
   "cell_type": "markdown",
   "id": "61aff25b",
   "metadata": {},
   "source": [
    "\n",
    "## 📌 **3. `break`, `continue`, `pass`**\n",
    "\n",
    "- **`break`:** Exit the loop immediately.  \n",
    "- **`continue`:** Skip the rest of the code in the current iteration.  \n",
    "- **`pass`:** Do nothing (used as a placeholder).\n",
    "\n",
    "### 📝 Example of `break`, `continue`, and `pass`:\n"
   ]
  },
  {
   "cell_type": "code",
   "execution_count": null,
   "id": "20af6553",
   "metadata": {},
   "outputs": [],
   "source": [
    "# Example of break, continue, and pass\n",
    "\n",
    "for i in range(5):\n",
    "    if i == 2:\n",
    "        continue  # Skip iteration when i is 2\n",
    "    if i == 4:\n",
    "        break  # Exit loop when i is 4\n",
    "    print(i)\n",
    "else:\n",
    "    pass  # Placeholder statement"
   ]
  },
  {
   "cell_type": "markdown",
   "id": "781d2d96",
   "metadata": {},
   "source": [
    "\n",
    "## 📌 **4. Nested Loops**\n",
    "\n",
    "A **nested loop** is a loop inside another loop.\n",
    "\n",
    "### 📝 Example of Nested Loops:\n"
   ]
  },
  {
   "cell_type": "code",
   "execution_count": null,
   "id": "404fad7f",
   "metadata": {},
   "outputs": [],
   "source": [
    "# Example of Nested Loops\n",
    "\n",
    "for i in range(3):\n",
    "    for j in range(2):\n",
    "        print(f\"Outer loop: {i}, Inner loop: {j}\")"
   ]
  },
  {
   "cell_type": "markdown",
   "id": "37d422f7",
   "metadata": {},
   "source": [
    "\n",
    "## 🚀 **5. Hands-On Exercise: Number Guessing Game**\n",
    "\n",
    "### 🎯 **Game Rules:**\n",
    "1. The program will generate a random number between **1 and 10**.\n",
    "2. The user will try to guess the number.\n",
    "3. The program will provide hints (`Too high`, `Too low`) until the user guesses correctly.\n",
    "\n",
    "### 📝 Example Code:\n"
   ]
  },
  {
   "cell_type": "code",
   "execution_count": null,
   "id": "b03356d5",
   "metadata": {},
   "outputs": [],
   "source": [
    "import random\n",
    "\n",
    "# Number Guessing Game\n",
    "secret_number = random.randint(1, 10)\n",
    "attempts = 0\n",
    "\n",
    "print(\"🎯 Welcome to the Number Guessing Game!\")\n",
    "print(\"I'm thinking of a number between 1 and 10. Can you guess it?\")\n",
    "\n",
    "while True:\n",
    "    guess = int(input(\"Enter your guess: \"))\n",
    "    attempts += 1\n",
    "\n",
    "    if guess == secret_number:\n",
    "        print(f\"🎉 Congratulations! You guessed it in {attempts} attempts.\")\n",
    "        break\n",
    "    elif guess > secret_number:\n",
    "        print(\"Too high! Try again.\")\n",
    "    else:\n",
    "        print(\"Too low! Try again.\")"
   ]
  },
  {
   "cell_type": "markdown",
   "id": "2b98deac",
   "metadata": {},
   "source": [
    "\n",
    "## 🎯 **Conclusion**\n",
    "\n",
    "In this lesson, you learned about:\n",
    "- Conditional Statements (`if`, `elif`, `else`)\n",
    "- Loops (`for`, `while`)\n",
    "- Control Statements (`break`, `continue`, `pass`)\n",
    "- Nested Loops\n",
    "\n",
    "You also built a **Number Guessing Game** to practice these concepts.\n",
    "\n",
    "### Next Lesson: Functions and Modules\n",
    "Keep Practicing! 🚀\n"
   ]
  }
 ],
 "metadata": {
  "kernelspec": {
   "display_name": "t25p313",
   "language": "python",
   "name": "python3"
  },
  "language_info": {
   "codemirror_mode": {
    "name": "ipython",
    "version": 3
   },
   "file_extension": ".py",
   "mimetype": "text/x-python",
   "name": "python",
   "nbconvert_exporter": "python",
   "pygments_lexer": "ipython3",
   "version": "3.12.7"
  }
 },
 "nbformat": 4,
 "nbformat_minor": 5
}
