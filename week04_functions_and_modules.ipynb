{
 "cells": [
  {
   "cell_type": "markdown",
   "id": "1745afb0",
   "metadata": {},
   "source": [
    "\n",
    "# 🐍 **Week 4: Functions and Modules**\n",
    "\n",
    "Welcome to **Week 4** of your Python learning journey! 🎓\n",
    "\n",
    "In this lesson, you will learn:\n",
    "- Defining and Calling Functions\n",
    "- Function Arguments and Return Values\n",
    "- Scope: Global vs Local Variables\n",
    "- Lambda Functions\n",
    "- Importing Modules (`math`, `random`)\n",
    "- Hands-on Project: Build a Unit Converter\n",
    "\n",
    "Let's dive in! 🚀\n"
   ]
  },
  {
   "cell_type": "markdown",
   "id": "50ab0c7d",
   "metadata": {},
   "source": [
    "\n",
    "## 📌 **1. Defining and Calling Functions**\n",
    "\n",
    "Functions are reusable blocks of code designed to perform a specific task.\n",
    "\n",
    "### 📝 Syntax for Defining a Function:\n",
    "```python\n",
    "def function_name(parameters):\n",
    "    # Code block\n",
    "    return value\n",
    "```\n",
    "\n",
    "### 📝 Example:\n"
   ]
  },
  {
   "cell_type": "code",
   "execution_count": null,
   "id": "ec97c72e",
   "metadata": {},
   "outputs": [],
   "source": [
    "# Example of Defining and Calling Functions\n",
    "\n",
    "def greet(name):\n",
    "    return f\"Hello, {name}!\"\n",
    "\n",
    "# Call the function\n",
    "print(greet(\"Alice\"))"
   ]
  },
  {
   "cell_type": "markdown",
   "id": "8e9ed05f",
   "metadata": {},
   "source": [
    "\n",
    "## 📌 **2. Function Arguments and Return Values**\n",
    "\n",
    "Functions can take **arguments** and return **values**.\n",
    "\n",
    "### 📝 Types of Arguments:\n",
    "- **Positional Arguments**\n",
    "- **Default Arguments**\n",
    "- **Keyword Arguments**\n",
    "- **Variable-length Arguments (`*args`, `**kwargs`)**\n",
    "\n",
    "### 📝 Example:\n"
   ]
  },
  {
   "cell_type": "code",
   "execution_count": null,
   "id": "b0944274",
   "metadata": {},
   "outputs": [],
   "source": [
    "# Example of Function Arguments\n",
    "\n",
    "def add(a, b=2):\n",
    "    return a + b\n",
    "\n",
    "print(add(3, 4))  # Positional Arguments\n",
    "print(add(5))     # Default Argument"
   ]
  },
  {
   "cell_type": "markdown",
   "id": "ac48c45b",
   "metadata": {},
   "source": [
    "\n",
    "## 📌 **3. Scope: Global vs Local Variables**\n",
    "\n",
    "- **Local Variables:** Defined inside a function and cannot be accessed outside it.\n",
    "- **Global Variables:** Defined outside a function and can be accessed globally.\n",
    "\n",
    "### 📝 Example:\n"
   ]
  },
  {
   "cell_type": "code",
   "execution_count": null,
   "id": "c06352e6",
   "metadata": {},
   "outputs": [],
   "source": [
    "# Example of Global vs Local Variables\n",
    "\n",
    "x = \"global\"\n",
    "\n",
    "def scope_example():\n",
    "    x = \"local\"\n",
    "    print(\"Inside function:\", x)\n",
    "\n",
    "scope_example()\n",
    "print(\"Outside function:\", x)"
   ]
  },
  {
   "cell_type": "markdown",
   "id": "7f4d0487",
   "metadata": {},
   "source": [
    "\n",
    "## 📌 **4. Lambda Functions**\n",
    "\n",
    "- **Lambda Functions:** Anonymous functions defined using the `lambda` keyword.\n",
    "- Used for **short, throwaway functions**.\n",
    "\n",
    "### 📝 Syntax:\n",
    "```python\n",
    "lambda arguments: expression\n",
    "```\n",
    "\n",
    "### 📝 Example:\n"
   ]
  },
  {
   "cell_type": "code",
   "execution_count": null,
   "id": "5e348e0f",
   "metadata": {},
   "outputs": [],
   "source": [
    "# Example of Lambda Function\n",
    "\n",
    "square = lambda x: x ** 2\n",
    "print(square(5))"
   ]
  },
  {
   "cell_type": "markdown",
   "id": "cc0faa85",
   "metadata": {},
   "source": [
    "\n",
    "## 📌 **5. Importing Modules (`math`, `random`)**\n",
    "\n",
    "- **Modules:** Reusable Python files containing functions and variables.\n",
    "- Use `import` to bring them into your script.\n",
    "\n",
    "### 📝 Example:\n"
   ]
  },
  {
   "cell_type": "code",
   "execution_count": null,
   "id": "a594b2a0",
   "metadata": {},
   "outputs": [],
   "source": [
    "# Importing Modules\n",
    "\n",
    "import math\n",
    "import random\n",
    "\n",
    "# Math module\n",
    "print(\"Square root of 16:\", math.sqrt(16))\n",
    "\n",
    "# Random module\n",
    "print(\"Random number between 1 and 10:\", random.randint(1, 10))"
   ]
  },
  {
   "cell_type": "markdown",
   "id": "3ca0ff33",
   "metadata": {},
   "source": [
    "\n",
    "## 🚀 **6. Hands-On Project: Build a Unit Converter**\n",
    "\n",
    "### 🎯 **Project Goals:**\n",
    "1. Convert **Length** (meters to kilometers, feet, etc.).\n",
    "2. Convert **Weight** (grams to kilograms, pounds, etc.).\n",
    "\n",
    "### 📝 Example Code:\n"
   ]
  },
  {
   "cell_type": "code",
   "execution_count": null,
   "id": "313173a9",
   "metadata": {},
   "outputs": [],
   "source": [
    "# Unit Converter\n",
    "\n",
    "def length_converter(value, unit):\n",
    "    if unit == \"km\":\n",
    "        return value / 1000\n",
    "    elif unit == \"ft\":\n",
    "        return value * 3.28084\n",
    "    else:\n",
    "        return \"Unit not supported\"\n",
    "\n",
    "def weight_converter(value, unit):\n",
    "    if unit == \"kg\":\n",
    "        return value / 1000\n",
    "    elif unit == \"lb\":\n",
    "        return value * 0.00220462\n",
    "    else:\n",
    "        return \"Unit not supported\"\n",
    "\n",
    "# User input\n",
    "print(\"Choose Conversion Type:\")\n",
    "print(\"1. Length\")\n",
    "print(\"2. Weight\")\n",
    "\n",
    "choice = int(input(\"Enter choice (1 or 2): \"))\n",
    "value = float(input(\"Enter value: \"))\n",
    "unit = input(\"Enter unit (e.g., km, ft, kg, lb): \")\n",
    "\n",
    "if choice == 1:\n",
    "    print(\"Converted Value:\", length_converter(value, unit))\n",
    "elif choice == 2:\n",
    "    print(\"Converted Value:\", weight_converter(value, unit))\n",
    "else:\n",
    "    print(\"Invalid choice!\")"
   ]
  },
  {
   "cell_type": "markdown",
   "id": "a0c5c247",
   "metadata": {},
   "source": [
    "\n",
    "## 🎯 **Conclusion**\n",
    "\n",
    "In this lesson, you learned about:\n",
    "- Defining and Calling Functions\n",
    "- Function Arguments and Return Values\n",
    "- Scope: Global vs Local Variables\n",
    "- Lambda Functions\n",
    "- Importing Modules (`math`, `random`)\n",
    "\n",
    "You also built a **Unit Converter** to practice these concepts.\n",
    "\n",
    "\n",
    "Keep Practicing! 🚀\n"
   ]
  }
 ],
 "metadata": {
  "kernelspec": {
   "display_name": "t25p313",
   "language": "python",
   "name": "python3"
  },
  "language_info": {
   "codemirror_mode": {
    "name": "ipython",
    "version": 3
   },
   "file_extension": ".py",
   "mimetype": "text/x-python",
   "name": "python",
   "nbconvert_exporter": "python",
   "pygments_lexer": "ipython3",
   "version": "3.12.7"
  }
 },
 "nbformat": 4,
 "nbformat_minor": 5
}
