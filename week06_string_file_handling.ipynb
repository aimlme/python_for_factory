{
 "cells": [
  {
   "cell_type": "markdown",
   "id": "b97f325c",
   "metadata": {},
   "source": [
    "\n",
    "# 🐍 **Week 6: String Manipulation and File Handling**\n",
    "\n",
    "Welcome to **Week 6** of your Python learning journey! 🎓\n",
    "\n",
    "In this lesson, you will learn:\n",
    "- String Methods\n",
    "- Reading and Writing Files (`open`, `read`, `write`)\n",
    "- Exception Handling (`try`, `except`, `finally`)\n",
    "- Hands-on Exercise: Create a To-Do List App with File Storage\n",
    "\n",
    "Let's get started! 🚀\n"
   ]
  },
  {
   "cell_type": "markdown",
   "id": "ae3dda0d",
   "metadata": {},
   "source": [
    "\n",
    "## 📌 **1. String Methods**\n",
    "\n",
    "Python provides various **string methods** to manipulate and analyze text.\n",
    "\n",
    "### 📝 Common String Methods:\n",
    "- `upper()`, `lower()`: Change case.\n",
    "- `strip()`: Remove whitespace.\n",
    "- `replace()`: Replace substrings.\n",
    "- `split()`: Split string into a list.\n",
    "- `join()`: Join a list into a string.\n",
    "\n",
    "### 📝 Example:\n"
   ]
  },
  {
   "cell_type": "code",
   "execution_count": null,
   "id": "a514234e",
   "metadata": {},
   "outputs": [],
   "source": [
    "# Example of String Methods\n",
    "\n",
    "text = \"  Hello, Python!  \"\n",
    "print(text.upper())  # Uppercase\n",
    "print(text.lower())  # Lowercase\n",
    "print(text.strip())  # Remove whitespace\n",
    "print(text.replace(\"Python\", \"World\"))  # Replace text\n",
    "print(text.split(\",\"))  # Split string\n",
    "print(\"-\".join([\"Hello\", \"World\"]))  # Join list"
   ]
  },
  {
   "cell_type": "markdown",
   "id": "7032aa3d",
   "metadata": {},
   "source": [
    "\n",
    "## 📌 **2. Reading and Writing Files (`open`, `read`, `write`)**\n",
    "\n",
    "Python allows you to **read from** and **write to** files.\n",
    "\n",
    "### 📝 Modes for `open()`:\n",
    "- `'r'`: Read\n",
    "- `'w'`: Write (overwrite)\n",
    "- `'a'`: Append\n",
    "- `'r+'`: Read and Write\n",
    "\n",
    "### 📝 Example:\n"
   ]
  },
  {
   "cell_type": "code",
   "execution_count": null,
   "id": "dadccde0",
   "metadata": {},
   "outputs": [],
   "source": [
    "# Example of Reading and Writing Files\n",
    "\n",
    "# Write to a file\n",
    "with open('example.txt', 'w') as file:\n",
    "    file.write('Hello, File Handling!\\n')\n",
    "    file.write('This is a second line.')\n",
    "\n",
    "# Read from a file\n",
    "with open('example.txt', 'r') as file:\n",
    "    content = file.read()\n",
    "    print(content)"
   ]
  },
  {
   "cell_type": "markdown",
   "id": "cab2cc4b",
   "metadata": {},
   "source": [
    "\n",
    "## 📌 **3. Exception Handling (`try`, `except`, `finally`)**\n",
    "\n",
    "Exception handling ensures your program **handles errors gracefully**.\n",
    "\n",
    "### 📝 Syntax:\n",
    "```python\n",
    "try:\n",
    "    # Code that might raise an exception\n",
    "except ExceptionType:\n",
    "    # Handle the exception\n",
    "finally:\n",
    "    # Cleanup code (always runs)\n",
    "```\n",
    "\n",
    "### 📝 Example:\n"
   ]
  },
  {
   "cell_type": "code",
   "execution_count": null,
   "id": "930c8f38",
   "metadata": {},
   "outputs": [],
   "source": [
    "# Example of Exception Handling\n",
    "\n",
    "try:\n",
    "    num = int(input(\"Enter a number: \"))\n",
    "    result = 10 / num\n",
    "    print(\"Result:\", result)\n",
    "except ValueError:\n",
    "    print(\"Invalid input! Please enter a number.\")\n",
    "except ZeroDivisionError:\n",
    "    print(\"Cannot divide by zero!\")\n",
    "finally:\n",
    "    print(\"Execution finished.\")"
   ]
  },
  {
   "cell_type": "markdown",
   "id": "705a1bb5",
   "metadata": {},
   "source": [
    "\n",
    "## 🚀 **4. Hands-On Exercise: Create a To-Do List App with File Storage**\n",
    "\n",
    "### 🎯 **Project Goals:**\n",
    "1. Add tasks to a **to-do list**.\n",
    "2. View tasks from the list.\n",
    "3. Save tasks to a **file**.\n",
    "4. Load tasks from a **file**.\n",
    "\n",
    "### 📝 Example Code:\n"
   ]
  },
  {
   "cell_type": "code",
   "execution_count": null,
   "id": "daee9775",
   "metadata": {},
   "outputs": [],
   "source": [
    "# To-Do List App with File Storage\n",
    "\n",
    "TODO_FILE = 'todo_list.txt'\n",
    "\n",
    "def load_tasks():\n",
    "    try:\n",
    "        with open(TODO_FILE, 'r') as file:\n",
    "            tasks = file.readlines()\n",
    "        return [task.strip() for task in tasks]\n",
    "    except FileNotFoundError:\n",
    "        return []\n",
    "\n",
    "def save_tasks(tasks):\n",
    "    with open(TODO_FILE, 'w') as file:\n",
    "        for task in tasks:\n",
    "            file.write(task + '\\n')\n",
    "\n",
    "def main():\n",
    "    tasks = load_tasks()\n",
    "    while True:\n",
    "        print(\"\\nTo-Do List\")\n",
    "        print(\"1. View Tasks\")\n",
    "        print(\"2. Add Task\")\n",
    "        print(\"3. Quit\")\n",
    "        choice = input(\"Enter your choice: \")\n",
    "        \n",
    "        if choice == '1':\n",
    "            if tasks:\n",
    "                for idx, task in enumerate(tasks, start=1):\n",
    "                    print(f\"{idx}. {task}\")\n",
    "            else:\n",
    "                print(\"No tasks found.\")\n",
    "        elif choice == '2':\n",
    "            task = input(\"Enter the task: \")\n",
    "            tasks.append(task)\n",
    "            save_tasks(tasks)\n",
    "            print(\"Task added!\")\n",
    "        elif choice == '3':\n",
    "            save_tasks(tasks)\n",
    "            print(\"Goodbye!\")\n",
    "            break\n",
    "        else:\n",
    "            print(\"Invalid choice. Please try again.\")\n",
    "\n",
    "# Run the To-Do List app\n",
    "main()"
   ]
  },
  {
   "cell_type": "markdown",
   "id": "f30317a2",
   "metadata": {},
   "source": [
    "\n",
    "## 🎯 **Conclusion**\n",
    "\n",
    "In this lesson, you learned about:\n",
    "- String Methods for manipulating text\n",
    "- Reading and Writing Files (`open`, `read`, `write`)\n",
    "- Exception Handling (`try`, `except`, `finally`)\n",
    "\n",
    "You also built a **To-Do List App with File Storage** to practice these concepts.\n",
    "\n",
    "### Next Lesson: Object-Oriented Programming (OOP)\n",
    "Keep Practicing! 🚀\n"
   ]
  }
 ],
 "metadata": {
  "kernelspec": {
   "display_name": "Python 3.9 (pytorch)",
   "language": "python",
   "name": "pytorch"
  },
  "language_info": {
   "codemirror_mode": {
    "name": "ipython",
    "version": 3
   },
   "file_extension": ".py",
   "mimetype": "text/x-python",
   "name": "python",
   "nbconvert_exporter": "python",
   "pygments_lexer": "ipython3",
   "version": "3.9.19"
  }
 },
 "nbformat": 4,
 "nbformat_minor": 5
}
