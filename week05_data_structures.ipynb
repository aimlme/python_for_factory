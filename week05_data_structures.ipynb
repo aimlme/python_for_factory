{
 "cells": [
  {
   "cell_type": "markdown",
   "id": "0609461a",
   "metadata": {},
   "source": [
    "\n",
    "# 🐍 **Week 5: Data Structures**\n",
    "\n",
    "Welcome to **Week 5** of your Python learning journey! 🎓\n",
    "\n",
    "In this lesson, you will learn:\n",
    "- Lists, Tuples, Dictionaries, and Sets\n",
    "- List Comprehensions\n",
    "- Dictionary Comprehensions\n",
    "- Iterators and Generators\n",
    "- Hands-on Exercise: Build a Shopping Cart System\n",
    "\n",
    "Let's dive in! 🚀\n"
   ]
  },
  {
   "cell_type": "markdown",
   "id": "c8f1034f",
   "metadata": {},
   "source": [
    "\n",
    "## 📌 **1. Lists, Tuples, Dictionaries, and Sets**\n",
    "\n",
    "- **List:** Ordered, mutable collection of items.  \n",
    "- **Tuple:** Ordered, immutable collection of items.  \n",
    "- **Dictionary:** Key-value pairs for data storage.  \n",
    "- **Set:** Unordered collection of unique items.\n",
    "\n",
    "### 📝 Example:\n"
   ]
  },
  {
   "cell_type": "code",
   "execution_count": null,
   "id": "e38fdd1c",
   "metadata": {},
   "outputs": [],
   "source": [
    "# Example of Data Structures\n",
    "\n",
    "# List\n",
    "fruits = [\"apple\", \"banana\", \"cherry\"]\n",
    "fruits.append(\"orange\")\n",
    "\n",
    "# Tuple\n",
    "coordinates = (10.0, 20.5)\n",
    "\n",
    "# Dictionary\n",
    "student = {\"name\": \"Alice\", \"age\": 25}\n",
    "\n",
    "# Set\n",
    "unique_numbers = {1, 2, 3, 4, 4, 5}\n",
    "\n",
    "print(\"List:\", fruits)\n",
    "print(\"Tuple:\", coordinates)\n",
    "print(\"Dictionary:\", student)\n",
    "print(\"Set:\", unique_numbers)"
   ]
  },
  {
   "cell_type": "markdown",
   "id": "2d394a9d",
   "metadata": {},
   "source": [
    "\n",
    "## 📌 **2. List Comprehensions**\n",
    "\n",
    "List comprehensions provide a **shorter syntax** for creating a list from an existing sequence.\n",
    "\n",
    "### 📝 Example:\n"
   ]
  },
  {
   "cell_type": "code",
   "execution_count": null,
   "id": "d0b97a90",
   "metadata": {},
   "outputs": [],
   "source": [
    "# Example of List Comprehension\n",
    "\n",
    "# Square of numbers from 1 to 5\n",
    "squares = [x**2 for x in range(1, 6)]\n",
    "print(\"Squares:\", squares)\n",
    "\n",
    "# Filtering even numbers\n",
    "evens = [x for x in range(10) if x % 2 == 0]\n",
    "print(\"Even numbers:\", evens)"
   ]
  },
  {
   "cell_type": "markdown",
   "id": "633e4159",
   "metadata": {},
   "source": [
    "\n",
    "## 📌 **3. Dictionary Comprehensions**\n",
    "\n",
    "Dictionary comprehensions are used to create dictionaries in a **concise way**.\n",
    "\n",
    "### 📝 Example:\n"
   ]
  },
  {
   "cell_type": "code",
   "execution_count": null,
   "id": "0837a4bb",
   "metadata": {},
   "outputs": [],
   "source": [
    "# Example of Dictionary Comprehension\n",
    "\n",
    "# Create a dictionary with numbers and their squares\n",
    "squares_dict = {x: x**2 for x in range(1, 6)}\n",
    "print(\"Squares Dictionary:\", squares_dict)"
   ]
  },
  {
   "cell_type": "markdown",
   "id": "14820327",
   "metadata": {},
   "source": [
    "\n",
    "## 📌 **4. Iterators and Generators**\n",
    "\n",
    "- **Iterator:** An object that can be iterated over (e.g., lists, tuples).  \n",
    "- **Generator:** A function that yields items one at a time using `yield`.\n",
    "\n",
    "### 📝 Example:\n"
   ]
  },
  {
   "cell_type": "code",
   "execution_count": null,
   "id": "71fe0b1c",
   "metadata": {},
   "outputs": [],
   "source": [
    "# Example of Generator\n",
    "\n",
    "def simple_generator():\n",
    "    yield 1\n",
    "    yield 2\n",
    "    yield 3\n",
    "\n",
    "gen = simple_generator()\n",
    "print(next(gen))  # Output: 1\n",
    "print(next(gen))  # Output: 2\n",
    "print(next(gen))  # Output: 3"
   ]
  },
  {
   "cell_type": "markdown",
   "id": "f72f2704",
   "metadata": {},
   "source": [
    "\n",
    "## 🚀 **5. Hands-On Exercise: Build a Shopping Cart System**\n",
    "\n",
    "### 🎯 **Project Goals:**\n",
    "1. Allow users to **add items** to the cart.\n",
    "2. Allow users to **view the cart**.\n",
    "3. Calculate the **total price** of the cart.\n",
    "\n",
    "### 📝 Example Code:\n"
   ]
  },
  {
   "cell_type": "code",
   "execution_count": null,
   "id": "5ab62513",
   "metadata": {},
   "outputs": [],
   "source": [
    "# Shopping Cart System\n",
    "\n",
    "cart = {}\n",
    "\n",
    "def add_item(item, price):\n",
    "    if item in cart:\n",
    "        cart[item]['quantity'] += 1\n",
    "    else:\n",
    "        cart[item] = {'price': price, 'quantity': 1}\n",
    "    print(f\"{item} added to cart.\")\n",
    "\n",
    "def view_cart():\n",
    "    print(\"Shopping Cart:\")\n",
    "    for item, details in cart.items():\n",
    "        print(f\"{item}: ${details['price']} x {details['quantity']}\")\n",
    "\n",
    "def calculate_total():\n",
    "    total = sum(details['price'] * details['quantity'] for details in cart.values())\n",
    "    print(f\"Total Price: ${total}\")\n",
    "\n",
    "# Add items\n",
    "add_item(\"Apple\", 1.5)\n",
    "add_item(\"Banana\", 0.75)\n",
    "add_item(\"Apple\", 1.5)\n",
    "\n",
    "# View cart\n",
    "view_cart()\n",
    "\n",
    "# Calculate total\n",
    "calculate_total()"
   ]
  },
  {
   "cell_type": "markdown",
   "id": "668ac9a8",
   "metadata": {},
   "source": [
    "\n",
    "## 🎯 **Conclusion**\n",
    "\n",
    "In this lesson, you learned about:\n",
    "- Lists, Tuples, Dictionaries, and Sets\n",
    "- List Comprehensions\n",
    "- Dictionary Comprehensions\n",
    "- Iterators and Generators\n",
    "\n",
    "You also built a **Shopping Cart System** to practice these concepts.\n",
    "\n",
    "### Next Lesson: String Manipulation and File Handling\n",
    "Keep Practicing! 🚀\n"
   ]
  }
 ],
 "metadata": {
  "kernelspec": {
   "display_name": "t25p313",
   "language": "python",
   "name": "python3"
  },
  "language_info": {
   "codemirror_mode": {
    "name": "ipython",
    "version": 3
   },
   "file_extension": ".py",
   "mimetype": "text/x-python",
   "name": "python",
   "nbconvert_exporter": "python",
   "pygments_lexer": "ipython3",
   "version": "3.12.7"
  }
 },
 "nbformat": 4,
 "nbformat_minor": 5
}
