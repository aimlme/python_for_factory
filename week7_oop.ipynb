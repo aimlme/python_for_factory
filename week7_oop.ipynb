{
 "cells": [
  {
   "cell_type": "markdown",
   "id": "c582c8f1",
   "metadata": {},
   "source": [
    "\n",
    "# 🐍 **Week 7: Object-Oriented Programming (OOP)**\n",
    "\n",
    "Welcome to **Week 7** of your Python learning journey! 🎓\n",
    "\n",
    "In this lesson, you will learn:\n",
    "- Classes and Objects\n",
    "- Constructors (`__init__`)\n",
    "- Inheritance, Polymorphism, and Encapsulation\n",
    "- Abstract Classes\n",
    "- Hands-on Exercise: Build a Library Management System\n",
    "\n",
    "Let's dive in! 🚀\n"
   ]
  },
  {
   "cell_type": "markdown",
   "id": "dd05ba18",
   "metadata": {},
   "source": [
    "\n",
    "## 📌 **1. Classes and Objects**\n",
    "\n",
    "- **Class:** A blueprint for creating objects.  \n",
    "- **Object:** An instance of a class.\n",
    "\n",
    "### 📝 Example:\n"
   ]
  },
  {
   "cell_type": "code",
   "execution_count": 2,
   "id": "bb63c3a6",
   "metadata": {},
   "outputs": [
    {
     "name": "stdout",
     "output_type": "stream",
     "text": [
      "Hello, my name is Alice and I am 30 years old.\n"
     ]
    }
   ],
   "source": [
    "# Example of Classes and Objects\n",
    "\n",
    "class Person:\n",
    "    def __init__(self, name, age):\n",
    "        self.name = name\n",
    "        self.age = age\n",
    "\n",
    "    def greet(self):\n",
    "        print(f\"Hello, my name is {self.name} and I am {self.age} years old.\")\n",
    "\n",
    "# Create an object\n",
    "person1 = Person(\"Alice\", 30)\n",
    "person1.greet()"
   ]
  },
  {
   "cell_type": "markdown",
   "id": "9b3b67bc",
   "metadata": {},
   "source": [
    "\n",
    "## 📌 **2. Constructors (`__init__`)**\n",
    "\n",
    "- The **`__init__`** method is called when an object is created.  \n",
    "- Used to **initialize** object attributes.\n",
    "\n",
    "### 📝 Example:\n"
   ]
  },
  {
   "cell_type": "code",
   "execution_count": 4,
   "id": "bae7167b",
   "metadata": {},
   "outputs": [
    {
     "name": "stdout",
     "output_type": "stream",
     "text": [
      "Car: Toyota Corolla\n"
     ]
    }
   ],
   "source": [
    "# Example of Constructors\n",
    "\n",
    "class Car:\n",
    "    def __init__(self, brand, model):\n",
    "        self.brand = brand\n",
    "        self.model = model\n",
    "\n",
    "    def display_info(self):\n",
    "        print(f\"Car: {self.brand} {self.model}\")\n",
    "\n",
    "# Create an object\n",
    "car1 = Car(\"Toyota\", \"Corolla\")\n",
    "car1.display_info()"
   ]
  },
  {
   "cell_type": "markdown",
   "id": "875487ef",
   "metadata": {},
   "source": [
    "\n",
    "## 📌 **3. Inheritance, Polymorphism, and Encapsulation**\n",
    "\n",
    "- **Inheritance:** Allows a class to inherit properties from another class.\n",
    "- **Polymorphism:** Allows methods to have different implementations.\n",
    "- **Encapsulation:** Restricts access to certain data.\n",
    "\n",
    "### 📝 Example:\n"
   ]
  },
  {
   "cell_type": "code",
   "execution_count": 5,
   "id": "1eab16ac",
   "metadata": {},
   "outputs": [
    {
     "name": "stdout",
     "output_type": "stream",
     "text": [
      "Woof!\n",
      "Balance: 1000\n"
     ]
    }
   ],
   "source": [
    "# Example of Inheritance, Polymorphism, and Encapsulation\n",
    "\n",
    "class Animal:\n",
    "    def make_sound(self):\n",
    "        print(\"Some generic animal sound\")\n",
    "\n",
    "# Inheritance\n",
    "class Dog(Animal):\n",
    "    def make_sound(self):\n",
    "        print(\"Woof!\")\n",
    "\n",
    "# Encapsulation\n",
    "class BankAccount:\n",
    "    def __init__(self, balance):\n",
    "        self.__balance = balance\n",
    "\n",
    "    def show_balance(self):\n",
    "        print(f\"Balance: {self.__balance}\")\n",
    "\n",
    "# Test the classes\n",
    "dog = Dog()\n",
    "dog.make_sound()\n",
    "\n",
    "account = BankAccount(1000)\n",
    "account.show_balance()"
   ]
  },
  {
   "cell_type": "markdown",
   "id": "e0f6f847",
   "metadata": {},
   "source": [
    "\n",
    "## 📌 **4. Abstract Classes**\n",
    "\n",
    "- An **abstract class** cannot be instantiated.\n",
    "- Defined using the **`abc`** module.\n",
    "- Contains **abstract methods** that must be implemented by subclasses.\n",
    "\n",
    "### 📝 Example:\n"
   ]
  },
  {
   "cell_type": "code",
   "execution_count": 6,
   "id": "90866408",
   "metadata": {},
   "outputs": [
    {
     "name": "stdout",
     "output_type": "stream",
     "text": [
      "Area of Rectangle: 50\n"
     ]
    }
   ],
   "source": [
    "from abc import ABC, abstractmethod\n",
    "\n",
    "# Abstract Class Example\n",
    "class Shape(ABC):\n",
    "    @abstractmethod\n",
    "    def area(self):\n",
    "        pass\n",
    "\n",
    "class Rectangle(Shape):\n",
    "    def __init__(self, width, height):\n",
    "        self.width = width\n",
    "        self.height = height\n",
    "\n",
    "    def area(self):\n",
    "        return self.width * self.height\n",
    "\n",
    "# Create an object\n",
    "rect = Rectangle(5, 10)\n",
    "print(\"Area of Rectangle:\", rect.area())"
   ]
  },
  {
   "cell_type": "markdown",
   "id": "79b60f3d",
   "metadata": {},
   "source": [
    "\n",
    "## 🚀 **5. Hands-On Exercise: Build a Library Management System**\n",
    "\n",
    "### 🎯 **Project Goals:**\n",
    "1. Manage **books** with details (title, author, availability).  \n",
    "2. Allow users to **borrow** and **return** books.  \n",
    "3. Display **available books**.\n",
    "\n",
    "### 📝 Example Code:\n"
   ]
  },
  {
   "cell_type": "code",
   "execution_count": 7,
   "id": "e3626c4d",
   "metadata": {},
   "outputs": [
    {
     "name": "stdout",
     "output_type": "stream",
     "text": [
      "Available Books:\n",
      "1984 by George Orwell - Available\n",
      "To Kill a Mockingbird by Harper Lee - Available\n",
      "You've borrowed '1984'\n",
      "Available Books:\n",
      "1984 by George Orwell - Borrowed\n",
      "To Kill a Mockingbird by Harper Lee - Available\n",
      "'1984' has been returned.\n",
      "Available Books:\n",
      "1984 by George Orwell - Available\n",
      "To Kill a Mockingbird by Harper Lee - Available\n"
     ]
    }
   ],
   "source": [
    "# Library Management System\n",
    "\n",
    "class Book:\n",
    "    def __init__(self, title, author):\n",
    "        self.title = title\n",
    "        self.author = author\n",
    "        self.available = True\n",
    "\n",
    "    def borrow(self):\n",
    "        if self.available:\n",
    "            self.available = False\n",
    "            return f\"You've borrowed '{self.title}'\"\n",
    "        return f\"'{self.title}' is already borrowed.\"\n",
    "\n",
    "    def return_book(self):\n",
    "        self.available = True\n",
    "        return f\"'{self.title}' has been returned.\"\n",
    "\n",
    "class Library:\n",
    "    def __init__(self):\n",
    "        self.books = []\n",
    "\n",
    "    def add_book(self, book):\n",
    "        self.books.append(book)\n",
    "\n",
    "    def display_books(self):\n",
    "        print(\"Available Books:\")\n",
    "        for book in self.books:\n",
    "            status = \"Available\" if book.available else \"Borrowed\"\n",
    "            print(f\"{book.title} by {book.author} - {status}\")\n",
    "\n",
    "# Create Library and Books\n",
    "library = Library()\n",
    "book1 = Book(\"1984\", \"George Orwell\")\n",
    "book2 = Book(\"To Kill a Mockingbird\", \"Harper Lee\")\n",
    "\n",
    "library.add_book(book1)\n",
    "library.add_book(book2)\n",
    "\n",
    "# Test the system\n",
    "library.display_books()\n",
    "print(book1.borrow())\n",
    "library.display_books()\n",
    "print(book1.return_book())\n",
    "library.display_books()"
   ]
  },
  {
   "cell_type": "markdown",
   "id": "d5b758e8",
   "metadata": {},
   "source": [
    "\n",
    "## 🎯 **Conclusion**\n",
    "\n",
    "In this lesson, you learned about:\n",
    "- Classes and Objects\n",
    "- Constructors (`__init__`)\n",
    "- Inheritance, Polymorphism, and Encapsulation\n",
    "- Abstract Classes\n",
    "\n",
    "You also built a **Library Management System** to practice these concepts.\n",
    "\n",
    "### Next Lesson: Error and Exception Handling\n",
    "Keep Practicing! 🚀\n"
   ]
  }
 ],
 "metadata": {
  "kernelspec": {
   "display_name": "t25p313",
   "language": "python",
   "name": "python3"
  },
  "language_info": {
   "codemirror_mode": {
    "name": "ipython",
    "version": 3
   },
   "file_extension": ".py",
   "mimetype": "text/x-python",
   "name": "python",
   "nbconvert_exporter": "python",
   "pygments_lexer": "ipython3",
   "version": "3.12.7"
  }
 },
 "nbformat": 4,
 "nbformat_minor": 5
}
