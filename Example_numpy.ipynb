{
 "cells": [
  {
   "cell_type": "markdown",
   "metadata": {},
   "source": [
    "\n",
    "## ทำไมต้องใช้ NumPy ทั้งที่มี List ใน Python อยู่แล้ว\n",
    "\n",
    "### ประสิทธิภาพ (Performance)\n",
    " NumPy ถูกออกแบบมาให้ทำงานได้เร็วกว่า List ใน Python โดยเฉพาะเมื่อทำงานกับข้อมูลจำนวนมาก เนื่องจาก NumPy ใช้การจัดการหน่วยความจำที่มีประสิทธิภาพและการดำเนินการทางคณิตศาสตร์ที่ทำงานในระดับต่ำ (low-level) ซึ่งทำให้การคำนวณเร็วขึ้น\n",
    "\n",
    "### การใช้หน่วยความจำ (Memory Usage)\n",
    "NumPy ใช้หน่วยความจำน้อยกว่า List ใน Python เนื่องจาก NumPy จัดเก็บข้อมูลในรูปแบบของอาร์เรย์ที่มีขนาดคงที่ (fixed-size) และมีประเภทข้อมูลเดียวกัน (homogeneous) ในขณะที่ List ใน Python สามารถเก็บข้อมูลที่มีประเภทต่างกันได้ (heterogeneous)\n",
    "\n",
    "### ฟังก์ชันและการดำเนินการทางคณิตศาสตร์ (Mathematical Functions and Operations)\n",
    "NumPy มีฟังก์ชันทางคณิตศาสตร์และสถิติที่หลากหลาย เช่น การหาค่าเฉลี่ย (mean), ค่าสูงสุด (max), ค่าต่ำสุด (min), ผลรวม (sum) และอื่น ๆ ซึ่งทำให้การคำนวณทางคณิตศาสตร์ง่ายและสะดวกมากขึ้น\n",
    "\n",
    "### การดำเนินการกับอาร์เรย์หลายมิติ (Multidimensional Arrays)\n",
    "NumPy รองรับการสร้างและการดำเนินการกับอาร์เรย์หลายมิติ (multidimensional arrays) ซึ่ง List ใน Python ไม่สามารถทำได้โดยตรง การใช้ NumPy ทำให้การจัดการกับข้อมูลที่มีหลายมิติง่ายและมีประสิทธิภาพมากขึ้น\n",
    "\n",
    "### การทำงานร่วมกับไลบรารีอื่น ๆ (Interoperability with Other Libraries)\n",
    "NumPy เป็นพื้นฐานของไลบรารีทางวิทยาศาสตร์และการคำนวณอื่น ๆ ใน Python เช่น SciPy, Pandas, Matplotlib และ Scikit-learn การใช้ NumPy ทำให้สามารถทำงานร่วมกับไลบรารีเหล่านี้ได้อย่างราบรื่น\n",
    "\n"
   ]
  },
  {
   "cell_type": "markdown",
   "metadata": {},
   "source": [
    "\n",
    "### คู่มือการติดตั้ง NumPy\n",
    "\n",
    "## 1. ตรวจสอบ Python และ pip\n",
    "ก่อนติดตั้ง NumPy ควรตรวจสอบว่า Python และ pip ติดตั้งอยู่แล้วหรือไม่\n",
    "```bash\n",
    "python --version\n",
    "pip --version\n",
    "```\n",
    "\n",
    "หากยังไม่มี Python สามารถดาวน์โหลดและติดตั้งจาก [Python Official Website](https://www.python.org/downloads/)\n",
    "\n",
    "---\n",
    "\n",
    "## 2. ติดตั้ง NumPy ผ่าน pip\n",
    "หากมี Python และ pip แล้ว สามารถติดตั้ง NumPy ได้โดยใช้คำสั่งต่อไปนี้:\n",
    "\n",
    "```bash\n",
    "pip install numpy\n",
    "```\n",
    "\n",
    "หากต้องการติดตั้ง NumPy เวอร์ชันล่าสุด ให้ใช้คำสั่งนี้:\n",
    "\n",
    "```bash\n",
    "pip install --upgrade numpy\n",
    "```\n",
    "\n",
    "---\n",
    "\n",
    "## 3. ติดตั้ง NumPy ใน Virtual Environment\n",
    "แนะนำให้ใช้ Virtual Environment เพื่อจัดการแพ็กเกจแยกจากระบบหลัก:\n",
    "\n",
    "```bash\n",
    "python -m venv myenv\n",
    "source myenv/bin/activate  # สำหรับ macOS/Linux\n",
    "myenv\\Scripts\\activate     # สำหรับ Windows\n",
    "pip install numpy\n",
    "```\n",
    "\n",
    "---\n",
    "\n",
    "## 4. ตรวจสอบการติดตั้ง NumPy\n",
    "เมื่อติดตั้งเสร็จแล้ว สามารถตรวจสอบว่า NumPy ถูกติดตั้งและใช้งานได้โดยรันโค้ดต่อไปนี้:\n",
    "\n",
    "```python\n",
    "import numpy as np\n",
    "print(\"NumPy เวอร์ชัน:\", np.__version__)\n",
    "```\n",
    "\n",
    "---\n",
    "\n",
    "## 5. แก้ไขปัญหาที่อาจพบ\n",
    "หากพบปัญหา เช่น ติดตั้งไม่ได้ หรือมีเวอร์ชันที่ไม่ตรงกับระบบ ลองใช้คำสั่งต่อไปนี้:\n",
    "\n",
    "- ติดตั้ง NumPy ใหม่\n",
    "```bash\n",
    "pip uninstall numpy\n",
    "pip install numpy\n",
    "```\n",
    "\n",
    "- ตรวจสอบเวอร์ชันของ Python และ pip\n",
    "```bash\n",
    "python --version\n",
    "pip --version\n",
    "```\n",
    "\n",
    "- ติดตั้งเวอร์ชันที่ต้องการ (เช่น 1.21.0)\n",
    "```bash\n",
    "pip install numpy==1.21.0\n",
    "```\n",
    "\n",
    "---\n",
    "\n",
    "## 6. ติดตั้ง NumPy บน Jupyter Notebook\n",
    "หากใช้ Jupyter Notebook และต้องการติดตั้ง NumPy ภายใน Notebook สามารถใช้คำสั่งนี้:\n",
    "\n",
    "```python\n",
    "!pip install numpy\n",
    "```\n",
    "\n",
    "---\n",
    "\n",
    "### 🎉 ตอนนี้คุณสามารถใช้งาน NumPy ได้แล้ว\n"
   ]
  },
  {
   "cell_type": "code",
   "execution_count": null,
   "metadata": {},
   "outputs": [],
   "source": [
    "! python --version"
   ]
  },
  {
   "cell_type": "code",
   "execution_count": null,
   "metadata": {},
   "outputs": [],
   "source": [
    "! pip --version"
   ]
  },
  {
   "cell_type": "code",
   "execution_count": null,
   "metadata": {},
   "outputs": [],
   "source": [
    "! pip install numpy"
   ]
  },
  {
   "cell_type": "code",
   "execution_count": null,
   "metadata": {},
   "outputs": [],
   "source": [
    "### ตัวอย่างการใช้งาน NumPy\n",
    "import numpy as np\n",
    "\n",
    "# การสร้างอาร์เรย์ NumPy\n",
    "a = np.array([1, 2, 3, 4, 5])\n",
    "print(\"อาร์เรย์ a:\", a)\n",
    "\n",
    "\n"
   ]
  },
  {
   "cell_type": "code",
   "execution_count": null,
   "metadata": {},
   "outputs": [],
   "source": [
    "# การสร้างอาร์เรย์ NumPy\n",
    "print(\"\\nสร้างอาร์เรย์ NumPy:\")\n",
    "a = np.array([1, 2, 3, 4, 5])\n",
    "print(\"อาร์เรย์ a:\", a)"
   ]
  },
  {
   "cell_type": "code",
   "execution_count": null,
   "metadata": {},
   "outputs": [],
   "source": [
    "# การสร้างอาร์เรย์หลายมิติ\n",
    "print(\"\\nสร้างอาร์เรย์ 2 มิติ:\")\n",
    "b = np.array([[1, 2, 3], [4, 5, 6]])\n",
    "print(\"อาร์เรย์ b:\\n\", b)"
   ]
  },
  {
   "cell_type": "code",
   "execution_count": null,
   "metadata": {},
   "outputs": [],
   "source": [
    "# การตรวจสอบขนาดของอาร์เรย์\n",
    "print(\"\\nขนาดของอาร์เรย์ b:\", b.shape)"
   ]
  },
  {
   "cell_type": "code",
   "execution_count": null,
   "metadata": {},
   "outputs": [],
   "source": [
    "# การเข้าถึงค่าในอาร์เรย์\n",
    "print(\"\\nเข้าถึงค่าจากอาร์เรย์:\")\n",
    "print(\"ค่าแรกของ a:\", a[0])\n",
    "print(\"ค่าที่ตำแหน่ง (1,2) ของ b:\", b[1, 2])"
   ]
  },
  {
   "cell_type": "code",
   "execution_count": null,
   "metadata": {},
   "outputs": [],
   "source": [
    "# การใช้ฟังก์ชันสร้างอาร์เรย์\n",
    "print(\"\\nฟังก์ชันสร้างอาร์เรย์:\")\n",
    "zeros_array = np.zeros((2, 3))  # อาร์เรย์ที่มีค่าเป็นศูนย์\n",
    "ones_array = np.ones((2, 3))    # อาร์เรย์ที่มีค่าเป็นหนึ่ง\n",
    "identity_matrix = np.eye(3)      # เมทริกซ์หน่วยขนาด 3x3\n",
    "print(\"อาร์เรย์ที่มีค่าเป็นศูนย์:\\n\", zeros_array)\n",
    "print(\"อาร์เรย์ที่มีค่าเป็นหนึ่ง:\\n\", ones_array)\n",
    "print(\"เมทริกซ์หน่วย:\\n\", identity_matrix)"
   ]
  },
  {
   "cell_type": "code",
   "execution_count": null,
   "metadata": {},
   "outputs": [],
   "source": [
    "# การดำเนินการทางคณิตศาสตร์กับอาร์เรย์\n",
    "print(\"\\nการดำเนินการทางคณิตศาสตร์:\")\n",
    "c = np.array([1, 2, 3, 4, 5])\n",
    "d = np.array([5, 4, 3, 2, 1])\n",
    "print(\"ผลบวก:\", c + d)\n",
    "print(\"ผลลบ:\", c - d)\n",
    "print(\"ผลคูณ:\", c * d)\n",
    "print(\"ผลหาร:\", c / d)"
   ]
  },
  {
   "cell_type": "code",
   "execution_count": null,
   "metadata": {},
   "outputs": [],
   "source": [
    "# การใช้ฟังก์ชันของ NumPy\n",
    "print(\"\\nฟังก์ชันของ NumPy:\")\n",
    "print(\"ค่าเฉลี่ยของ c:\", np.mean(c))\n",
    "print(\"ค่าสูงสุดของ c:\", np.max(c))\n",
    "print(\"ค่าต่ำสุดของ c:\", np.min(c))\n",
    "print(\"ผลรวมของ c:\", np.sum(c))"
   ]
  },
  {
   "cell_type": "code",
   "execution_count": null,
   "metadata": {},
   "outputs": [],
   "source": [
    "# การใช้ Indexing และ Slicing\n",
    "print(\"\\nการใช้ Indexing และ Slicing:\")\n",
    "e = np.array([10, 20, 30, 40, 50, 60])\n",
    "print(\"ค่าจาก index 1 ถึง 4:\", e[1:5])\n",
    "print(\"ค่าทุกตัวที่มี index เป็นเลขคู่:\", e[::2])"
   ]
  },
  {
   "cell_type": "code",
   "execution_count": null,
   "metadata": {},
   "outputs": [],
   "source": [
    "# การใช้ฟังก์ชันสุ่ม\n",
    "print(\"\\nการใช้ฟังก์ชันสุ่ม:\")\n",
    "random_array = np.random.rand(3, 3)  # อาร์เรย์สุ่มขนาด 3x3\n",
    "print(\"อาร์เรย์สุ่ม:\\n\", random_array)"
   ]
  },
  {
   "cell_type": "code",
   "execution_count": null,
   "metadata": {},
   "outputs": [],
   "source": [
    "# การ Reshape อาร์เรย์\n",
    "print(\"\\nการ Reshape อาร์เรย์:\")\n",
    "f = np.array([1, 2, 3, 4, 5, 6, 7, 8, 9])\n",
    "reshaped_f = f.reshape(3, 3)\n",
    "print(\"อาร์เรย์ที่ถูก Reshape:\\n\", reshaped_f)"
   ]
  },
  {
   "cell_type": "code",
   "execution_count": null,
   "metadata": {},
   "outputs": [],
   "source": [
    "# การคำนวณเมทริกซ์\n",
    "print(\"\\nการคำนวณเมทริกซ์:\")\n",
    "\n",
    "matrix_a = np.array([[1, 2], \n",
    "                     [3, 4]])\n",
    "\n",
    "\n",
    "matrix_b = np.array([[5, 6], \n",
    "                     [7, 8]])\n",
    "print(\"ผลคูณเมทริกซ์:\\n\", np.dot(matrix_a, matrix_b))\n"
   ]
  }
 ],
 "metadata": {
  "kernelspec": {
   "display_name": "y8t",
   "language": "python",
   "name": "python3"
  },
  "language_info": {
   "codemirror_mode": {
    "name": "ipython",
    "version": 3
   },
   "file_extension": ".py",
   "mimetype": "text/x-python",
   "name": "python",
   "nbconvert_exporter": "python",
   "pygments_lexer": "ipython3",
   "version": "3.9.13"
  }
 },
 "nbformat": 4,
 "nbformat_minor": 2
}
